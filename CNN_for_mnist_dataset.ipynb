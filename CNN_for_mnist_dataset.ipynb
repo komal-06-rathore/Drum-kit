{
  "nbformat": 4,
  "nbformat_minor": 0,
  "metadata": {
    "colab": {
      "provenance": [],
      "authorship_tag": "ABX9TyPTF3H5UW2IdQz+Nv8+rFt2",
      "include_colab_link": true
    },
    "kernelspec": {
      "name": "python3",
      "display_name": "Python 3"
    },
    "language_info": {
      "name": "python"
    }
  },
  "cells": [
    {
      "cell_type": "markdown",
      "metadata": {
        "id": "view-in-github",
        "colab_type": "text"
      },
      "source": [
        "<a href=\"https://colab.research.google.com/github/komal-06-rathore/Drum-kit/blob/main/CNN_for_mnist_dataset.ipynb\" target=\"_parent\"><img src=\"https://colab.research.google.com/assets/colab-badge.svg\" alt=\"Open In Colab\"/></a>"
      ]
    },
    {
      "cell_type": "code",
      "execution_count": 1,
      "metadata": {
        "id": "4ffIf6a9DU62"
      },
      "outputs": [],
      "source": [
        "import numpy as np\n",
        "import keras\n",
        "from keras.datasets import mnist\n",
        "from keras.models import Model\n",
        "from keras.layers import Dense, Input\n",
        "from keras.layers import Conv2D, MaxPooling2D, Dropout, Flatten\n",
        "from keras import backend as k\n"
      ]
    },
    {
      "cell_type": "code",
      "source": [
        "(x_train, y_train), (x_test, y_test) = mnist.load_data()\n"
      ],
      "metadata": {
        "colab": {
          "base_uri": "https://localhost:8080/"
        },
        "id": "YgrK6eHaD3vQ",
        "outputId": "63daafb3-1857-457c-c132-e43454015fa0"
      },
      "execution_count": 2,
      "outputs": [
        {
          "output_type": "stream",
          "name": "stdout",
          "text": [
            "Downloading data from https://storage.googleapis.com/tensorflow/tf-keras-datasets/mnist.npz\n",
            "11490434/11490434 [==============================] - 0s 0us/step\n"
          ]
        }
      ]
    },
    {
      "cell_type": "code",
      "source": [
        "img_rows, img_cols=28, 28\n",
        "\n",
        "if k.image_data_format() == 'channels_first':\n",
        "  x_train = x_train.reshape(x_train.shape[0], 1, img_rows, img_cols)\n",
        "  x_test = x_test.reshape(x_test.shape[0], 1, img_rows, img_cols)\n",
        "  inpx = (1, img_rows, img_cols)\n",
        "\n",
        "else:\n",
        "  x_train = x_train.reshape(x_train.shape[0], img_rows, img_cols, 1)\n",
        "  x_test = x_test.reshape(x_test.shape[0], img_rows, img_cols, 1)\n",
        "  inpx = (img_rows, img_cols, 1)\n",
        "\n",
        "x_train = x_train.astype('float32')\n",
        "x_test = x_test.astype('float32')\n",
        "x_train /= 255\n",
        "x_test /= 255\n"
      ],
      "metadata": {
        "id": "Svzk5IaLD3y5"
      },
      "execution_count": 4,
      "outputs": []
    },
    {
      "cell_type": "code",
      "source": [
        "y_train = keras.utils.to_categorical(y_train)\n",
        "y_test = keras.utils.to_categorical(y_test)\n"
      ],
      "metadata": {
        "id": "7L1_gNZvD30p"
      },
      "execution_count": 5,
      "outputs": []
    },
    {
      "cell_type": "code",
      "source": [
        "inpx = Input(shape=inpx)\n",
        "layer1 = Conv2D(32, kernel_size=(3, 3), activation='relu')(inpx)\n",
        "layer2 = Conv2D(64, (3, 3), activation='relu')(layer1)\n",
        "layer3 = MaxPooling2D(pool_size=(3, 3))(layer2)\n",
        "layer4 = Dropout(0.5)(layer3)\n",
        "layer5 = Flatten()(layer4)\n",
        "layer6 = Dense(250, activation='sigmoid')(layer5)\n",
        "layer7 = Dense(10, activation='softmax')(layer6)\n"
      ],
      "metadata": {
        "id": "oi339tcXD33J"
      },
      "execution_count": 6,
      "outputs": []
    },
    {
      "cell_type": "code",
      "source": [
        "model = Model([inpx], layer7)\n",
        "model.compile(optimizer=keras.optimizers.Adadelta(),\n",
        "\t\t\tloss=keras.losses.categorical_crossentropy,\n",
        "\t\t\tmetrics=['accuracy'])\n",
        "\n",
        "model.fit(x_train, y_train, epochs=12, batch_size=500)\n"
      ],
      "metadata": {
        "colab": {
          "base_uri": "https://localhost:8080/"
        },
        "id": "5ZHEO4wCD35r",
        "outputId": "3a62175b-35fc-4f50-eb66-2a2a6400edeb"
      },
      "execution_count": 7,
      "outputs": [
        {
          "output_type": "stream",
          "name": "stdout",
          "text": [
            "Epoch 1/12\n",
            "120/120 [==============================] - 131s 1s/step - loss: 2.4724 - accuracy: 0.0993\n",
            "Epoch 2/12\n",
            "120/120 [==============================] - 128s 1s/step - loss: 2.4542 - accuracy: 0.0993\n",
            "Epoch 3/12\n",
            "120/120 [==============================] - 125s 1s/step - loss: 2.4361 - accuracy: 0.0993\n",
            "Epoch 4/12\n",
            "120/120 [==============================] - 124s 1s/step - loss: 2.4186 - accuracy: 0.0994\n",
            "Epoch 5/12\n",
            "120/120 [==============================] - 125s 1s/step - loss: 2.4014 - accuracy: 0.0995\n",
            "Epoch 6/12\n",
            "120/120 [==============================] - 126s 1s/step - loss: 2.3849 - accuracy: 0.0995\n",
            "Epoch 7/12\n",
            "120/120 [==============================] - 125s 1s/step - loss: 2.3691 - accuracy: 0.0997\n",
            "Epoch 8/12\n",
            "120/120 [==============================] - 124s 1s/step - loss: 2.3536 - accuracy: 0.1001\n",
            "Epoch 9/12\n",
            "120/120 [==============================] - 132s 1s/step - loss: 2.3390 - accuracy: 0.1011\n",
            "Epoch 10/12\n",
            "120/120 [==============================] - 131s 1s/step - loss: 2.3247 - accuracy: 0.1033\n",
            "Epoch 11/12\n",
            "120/120 [==============================] - 133s 1s/step - loss: 2.3113 - accuracy: 0.1069\n",
            "Epoch 12/12\n",
            "120/120 [==============================] - 128s 1s/step - loss: 2.2985 - accuracy: 0.1140\n"
          ]
        },
        {
          "output_type": "execute_result",
          "data": {
            "text/plain": [
              "<keras.src.callbacks.History at 0x7931d1f5bf70>"
            ]
          },
          "metadata": {},
          "execution_count": 7
        }
      ]
    },
    {
      "cell_type": "code",
      "source": [
        "score = model.evaluate(x_test, y_test, verbose=0)\n",
        "print('loss=', score[0])\n",
        "print('accuracy=', score[1])\n"
      ],
      "metadata": {
        "colab": {
          "base_uri": "https://localhost:8080/"
        },
        "id": "AltDpSuoD38J",
        "outputId": "e4b02443-09ee-41f7-a91c-cf11d884ad7e"
      },
      "execution_count": 8,
      "outputs": [
        {
          "output_type": "stream",
          "name": "stdout",
          "text": [
            "loss= 2.2899298667907715\n",
            "accuracy= 0.10890000313520432\n"
          ]
        }
      ]
    },
    {
      "cell_type": "code",
      "source": [],
      "metadata": {
        "id": "r-JQpQrhD3-v"
      },
      "execution_count": null,
      "outputs": []
    },
    {
      "cell_type": "code",
      "source": [],
      "metadata": {
        "id": "YX6oByg3D4BY"
      },
      "execution_count": null,
      "outputs": []
    },
    {
      "cell_type": "code",
      "source": [],
      "metadata": {
        "id": "9tSy-3aFD4E9"
      },
      "execution_count": null,
      "outputs": []
    }
  ]
}